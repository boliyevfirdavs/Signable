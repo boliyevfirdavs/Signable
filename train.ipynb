{
 "cells": [
  {
   "metadata": {},
   "cell_type": "markdown",
   "source": "!pip install numpy tensorflow keras mediapipe opencv-python matplotlib skicit-learn",
   "id": "29ecf9b700f9aa41"
  },
  {
   "cell_type": "code",
   "id": "initial_id",
   "metadata": {
    "collapsed": true,
    "ExecuteTime": {
     "end_time": "2024-07-29T12:07:18.456056Z",
     "start_time": "2024-07-29T12:07:13.551847Z"
    }
   },
   "source": [
    "import cv2\n",
    "import numpy as np\n",
    "import os\n",
    "from matplotlib import pyplot as plt\n",
    "from sklearn.model_selection import train_test_split\n",
    "from keras._tf_keras.keras.utils import to_categorical\n",
    "from keras._tf_keras.keras.models import Sequential\n",
    "from keras._tf_keras.keras.callbacks import TensorBoard\n",
    "from tensorflow.keras.layers import LSTM, Dense\n",
    "import mediapipe as mp"
   ],
   "execution_count": 1,
   "outputs": []
  },
  {
   "metadata": {
    "ExecuteTime": {
     "end_time": "2024-07-29T12:07:23.019364Z",
     "start_time": "2024-07-29T12:07:23.003190Z"
    }
   },
   "cell_type": "code",
   "source": [
    "mp_holistic = mp.solutions.holistic\n",
    "mp_drawing = mp.solutions.drawing_utils"
   ],
   "id": "6a895d0e8c71bbf6",
   "execution_count": 2,
   "outputs": []
  },
  {
   "metadata": {
    "ExecuteTime": {
     "end_time": "2024-07-29T12:07:24.363547Z",
     "start_time": "2024-07-29T12:07:24.344630Z"
    }
   },
   "cell_type": "code",
   "source": [
    "def mediapipe_detection(image, model):\n",
    "    image = cv2.cvtColor(image, cv2.COLOR_BGR2RGB)\n",
    "    image.flags.writeable = False\n",
    "    results = model.process(image)\n",
    "    image.flags.writeable = True\n",
    "    image = cv2.cvtColor(image, cv2.COLOR_RGB2BGR)\n",
    "    return image, results"
   ],
   "id": "b060b3959b750f92",
   "execution_count": 3,
   "outputs": []
  },
  {
   "metadata": {
    "ExecuteTime": {
     "end_time": "2024-07-29T12:07:25.329476Z",
     "start_time": "2024-07-29T12:07:25.316495Z"
    }
   },
   "cell_type": "code",
   "source": [
    "def draw_styled_landmarks(image, results):\n",
    "    # Draw face connections\n",
    "    mp_drawing.draw_landmarks(image, results.face_landmarks, mp_holistic.FACEMESH_CONTOURS,\n",
    "                             mp_drawing.DrawingSpec(color=(80,110,10), thickness=1, circle_radius=1),\n",
    "                             mp_drawing.DrawingSpec(color=(80,256,121), thickness=1, circle_radius=1)\n",
    "                             )\n",
    "    # Draw pose connections\n",
    "    mp_drawing.draw_landmarks(image, results.pose_landmarks, mp_holistic.POSE_CONNECTIONS,\n",
    "                             mp_drawing.DrawingSpec(color=(80,22,10), thickness=2, circle_radius=4),\n",
    "                             mp_drawing.DrawingSpec(color=(80,44,121), thickness=2, circle_radius=2)\n",
    "                             )\n",
    "    # Draw left hand connections\n",
    "    mp_drawing.draw_landmarks(image, results.left_hand_landmarks, mp_holistic.HAND_CONNECTIONS,\n",
    "                             mp_drawing.DrawingSpec(color=(121,22,76), thickness=2, circle_radius=4),\n",
    "                             mp_drawing.DrawingSpec(color=(121,44,250), thickness=2, circle_radius=2)\n",
    "                             )\n",
    "    # Draw right hand connections\n",
    "    mp_drawing.draw_landmarks(image, results.right_hand_landmarks, mp_holistic.HAND_CONNECTIONS,\n",
    "                             mp_drawing.DrawingSpec(color=(245,117,66), thickness=2, circle_radius=4),\n",
    "                             mp_drawing.DrawingSpec(color=(245,66,230), thickness=2, circle_radius=2)\n",
    "                             )"
   ],
   "id": "a281de3950777f35",
   "execution_count": 4,
   "outputs": []
  },
  {
   "metadata": {
    "ExecuteTime": {
     "end_time": "2024-07-29T12:07:27.049422Z",
     "start_time": "2024-07-29T12:07:27.032219Z"
    }
   },
   "cell_type": "code",
   "source": [
    "def extract_keypoints(results):\n",
    "    pose = np.array([[res.x, res.y, res.z, res.visibility] for res in results.pose_landmarks.landmark]).flatten() if results.pose_landmarks else np.zeros(33*4)\n",
    "    face = np.array([[res.x, res.y, res.z] for res in results.face_landmarks.landmark]).flatten() if results.face_landmarks else np.zeros(468*3)\n",
    "    lh = np.array([[res.x, res.y, res.z] for res in results.left_hand_landmarks.landmark]).flatten() if results.left_hand_landmarks else np.zeros(21*3)\n",
    "    rh = np.array([[res.x, res.y, res.z] for res in results.right_hand_landmarks.landmark]).flatten() if results.right_hand_landmarks else np.zeros(21*3)\n",
    "    return np.concatenate([pose, face, lh, rh])"
   ],
   "id": "17ad86f0648c9d63",
   "execution_count": 5,
   "outputs": []
  },
  {
   "metadata": {
    "ExecuteTime": {
     "end_time": "2024-07-29T12:07:28.836932Z",
     "start_time": "2024-07-29T12:07:28.833146Z"
    }
   },
   "cell_type": "code",
   "source": [
    "DATA_PATH = os.path.join('MP_Data')\n",
    "\n",
    "# Actions that we try to detect\n",
    "actions = np.array([\"no_event\", 'brother', 'hello', 'my', 'now', \"play\", \"soccer\"])\n",
    "\n",
    "# Thirty videos worth of data\n",
    "no_sequences = 30\n",
    "\n",
    "# Videos are going to be 30 frames in length\n",
    "sequence_length = 30\n",
    "\n",
    "# Folder start\n",
    "start_folder = 0"
   ],
   "id": "dc3d2fc342c5ad37",
   "execution_count": 6,
   "outputs": []
  },
  {
   "metadata": {
    "ExecuteTime": {
     "end_time": "2024-07-29T12:07:30.115120Z",
     "start_time": "2024-07-29T12:07:30.095616Z"
    }
   },
   "cell_type": "code",
   "source": [
    "for action in actions:\n",
    "    for sequence in range(no_sequences):\n",
    "        try:\n",
    "            os.makedirs(os.path.join(DATA_PATH, action, str(sequence)))\n",
    "        except:\n",
    "            pass"
   ],
   "id": "a683f7e3d670b5d0",
   "execution_count": 7,
   "outputs": []
  },
  {
   "metadata": {
    "ExecuteTime": {
     "end_time": "2024-07-29T12:49:36.730867Z",
     "start_time": "2024-07-29T12:45:11.570529Z"
    }
   },
   "cell_type": "code",
   "source": [
    "for action in actions:\n",
    "    for i in range(30):\n",
    "        cap = cv2.VideoCapture(\"DATA/{}/{}.mp4\".format(action, i))\n",
    "        cap.set(cv2.CAP_PROP_FRAME_WIDTH, 1920)\n",
    "        cap.set(cv2.CAP_PROP_FRAME_HEIGHT, 1080)\n",
    "        with mp_holistic.Holistic(min_detection_confidence=0.5, min_tracking_confidence=0.5) as holistic:\n",
    "            for frame_num in range(sequence_length):\n",
    "                ret, frame = cap.read()\n",
    "                image, results = mediapipe_detection(frame, holistic)\n",
    "                draw_styled_landmarks(image, results)\n",
    "                keypoints = extract_keypoints(results)\n",
    "                npy_path = os.path.join(DATA_PATH, action, str(i), str(frame_num))\n",
    "                np.save(npy_path, keypoints)\n",
    "        cap.release()\n",
    "        cv2.destroyAllWindows()"
   ],
   "id": "73f0da9180fd8583",
   "execution_count": 9,
   "outputs": []
  },
  {
   "metadata": {
    "ExecuteTime": {
     "end_time": "2024-07-29T12:49:57.538014Z",
     "start_time": "2024-07-29T12:49:57.527634Z"
    }
   },
   "cell_type": "code",
   "source": "label_map = {label:num for num, label in enumerate(actions)}",
   "id": "5d27a02d4296133",
   "execution_count": 10,
   "outputs": []
  },
  {
   "metadata": {
    "ExecuteTime": {
     "end_time": "2024-07-29T12:50:44.248373Z",
     "start_time": "2024-07-29T12:49:59.246386Z"
    }
   },
   "cell_type": "code",
   "source": [
    "sequences, labels = [], []\n",
    "for action in actions:\n",
    "    for sequence in np.array(os.listdir(os.path.join(DATA_PATH, action))).astype(int):\n",
    "        window = []\n",
    "        for frame_num in range(sequence_length):\n",
    "            res = np.load(os.path.join(DATA_PATH, action, str(sequence), \"{}.npy\".format(frame_num)))\n",
    "            window.append(res)\n",
    "        sequences.append(window)\n",
    "        labels.append(label_map[action])"
   ],
   "id": "50e07a7a7e56b7c7",
   "execution_count": 11,
   "outputs": []
  },
  {
   "metadata": {
    "ExecuteTime": {
     "end_time": "2024-07-29T12:50:47.098249Z",
     "start_time": "2024-07-29T12:50:47.069437Z"
    }
   },
   "cell_type": "code",
   "source": "X = np.array(sequences)",
   "id": "687d6db631c0e137",
   "execution_count": 12,
   "outputs": []
  },
  {
   "metadata": {
    "ExecuteTime": {
     "end_time": "2024-07-29T12:50:48.318799Z",
     "start_time": "2024-07-29T12:50:48.300166Z"
    }
   },
   "cell_type": "code",
   "source": "y = to_categorical(labels).astype(int)",
   "id": "c99a7dc6d628a1fc",
   "execution_count": 13,
   "outputs": []
  },
  {
   "metadata": {
    "ExecuteTime": {
     "end_time": "2024-07-29T12:50:50.742799Z",
     "start_time": "2024-07-29T12:50:50.714143Z"
    }
   },
   "cell_type": "code",
   "source": "X_train, X_test, y_train, y_test = train_test_split(X, y, test_size=0.3)",
   "id": "c46062ed6d835652",
   "execution_count": 14,
   "outputs": []
  },
  {
   "metadata": {
    "ExecuteTime": {
     "end_time": "2024-07-29T12:50:54.065658Z",
     "start_time": "2024-07-29T12:50:54.057173Z"
    }
   },
   "cell_type": "code",
   "source": [
    "log_dir = os.path.join('Logs')\n",
    "tb_callback = TensorBoard(log_dir=log_dir)"
   ],
   "id": "c28bde9f40169092",
   "execution_count": 15,
   "outputs": []
  },
  {
   "metadata": {
    "ExecuteTime": {
     "end_time": "2024-07-29T12:50:56.105405Z",
     "start_time": "2024-07-29T12:50:55.951406Z"
    }
   },
   "cell_type": "code",
   "source": [
    "model = Sequential()\n",
    "model.add(LSTM(64, return_sequences=True, activation='relu', input_shape=(30,1662)))\n",
    "model.add(LSTM(128, return_sequences=True, activation='relu'))\n",
    "model.add(LSTM(64, return_sequences=False, activation='relu'))\n",
    "model.add(Dense(64, activation='relu'))\n",
    "model.add(Dense(32, activation='relu'))\n",
    "model.add(Dense(actions.shape[0], activation='softmax'))"
   ],
   "id": "663ba73c2ffb33c2",
   "execution_count": 16,
   "outputs": []
  },
  {
   "metadata": {
    "ExecuteTime": {
     "end_time": "2024-07-29T12:51:28.250963Z",
     "start_time": "2024-07-29T12:51:28.230490Z"
    }
   },
   "cell_type": "code",
   "source": "model.compile(optimizer='Adam', loss='categorical_crossentropy', metrics=['categorical_accuracy'])",
   "id": "ba826286525954f7",
   "execution_count": 17,
   "outputs": []
  },
  {
   "metadata": {
    "ExecuteTime": {
     "end_time": "2024-07-29T12:57:41.921608Z",
     "start_time": "2024-07-29T12:51:33.068782Z"
    }
   },
   "cell_type": "code",
   "source": "model.fit(X_train, y_train, epochs=2000, callbacks=[tb_callback])",
   "id": "17574d9d599570bd",
   "execution_count": 18,
   "outputs": []
  },
  {
   "metadata": {
    "ExecuteTime": {
     "end_time": "2024-07-29T13:01:34.733507Z",
     "start_time": "2024-07-29T13:01:34.705180Z"
    }
   },
   "cell_type": "code",
   "source": "model.summary()",
   "id": "a76ec962f8cac3c5",
   "execution_count": 19,
   "outputs": []
  },
  {
   "metadata": {
    "ExecuteTime": {
     "end_time": "2024-07-29T13:02:02.035582Z",
     "start_time": "2024-07-29T13:02:01.452718Z"
    }
   },
   "cell_type": "code",
   "source": "res = model.predict(X_test)",
   "id": "38f970e2e70b911b",
   "execution_count": 20,
   "outputs": []
  },
  {
   "metadata": {
    "ExecuteTime": {
     "end_time": "2024-07-29T13:02:33.792302Z",
     "start_time": "2024-07-29T13:02:33.783859Z"
    }
   },
   "cell_type": "code",
   "source": "actions[np.argmax(res[10])]",
   "id": "7364f4c85102a1c5",
   "execution_count": 25,
   "outputs": []
  },
  {
   "metadata": {
    "ExecuteTime": {
     "end_time": "2024-07-29T13:02:35.021484Z",
     "start_time": "2024-07-29T13:02:35.005341Z"
    }
   },
   "cell_type": "code",
   "source": "actions[np.argmax(y_test[10])]",
   "id": "56539c35f4567c09",
   "execution_count": 26,
   "outputs": []
  },
  {
   "metadata": {
    "ExecuteTime": {
     "end_time": "2024-07-29T13:02:38.332893Z",
     "start_time": "2024-07-29T13:02:38.276548Z"
    }
   },
   "cell_type": "code",
   "source": "model.save(\"action.h5\")",
   "id": "fc1a06aeeafafe1d",
   "execution_count": 27,
   "outputs": []
  },
  {
   "metadata": {
    "ExecuteTime": {
     "end_time": "2024-06-13T16:42:38.551079Z",
     "start_time": "2024-06-13T16:42:38.540808Z"
    }
   },
   "cell_type": "code",
   "source": "del model",
   "id": "3a0166a211405738",
   "execution_count": 33,
   "outputs": []
  },
  {
   "metadata": {
    "ExecuteTime": {
     "end_time": "2024-06-13T16:42:39.652463Z",
     "start_time": "2024-06-13T16:42:39.514383Z"
    }
   },
   "cell_type": "code",
   "source": [
    "model = Sequential()\n",
    "model.add(LSTM(64, return_sequences=True, activation='relu', input_shape=(30,1662)))\n",
    "model.add(LSTM(128, return_sequences=True, activation='relu'))\n",
    "model.add(LSTM(64, return_sequences=False, activation='relu'))\n",
    "model.add(Dense(64, activation='relu'))\n",
    "model.add(Dense(32, activation='relu'))\n",
    "model.add(Dense(all_actions.shape[0], activation='softmax'))"
   ],
   "id": "1a0b553ba3d33e54",
   "execution_count": 34,
   "outputs": []
  },
  {
   "metadata": {
    "ExecuteTime": {
     "end_time": "2024-06-13T16:43:02.129687Z",
     "start_time": "2024-06-13T16:43:02.116702Z"
    }
   },
   "cell_type": "code",
   "source": "model.compile(optimizer='Adam', loss='categorical_crossentropy', metrics=['categorical_accuracy'])",
   "id": "bbf0b9f68cf91d22",
   "execution_count": 35,
   "outputs": []
  },
  {
   "metadata": {
    "ExecuteTime": {
     "end_time": "2024-06-13T16:44:31.611604Z",
     "start_time": "2024-06-13T16:44:31.462261Z"
    }
   },
   "cell_type": "code",
   "source": "model.load_weights('action.h5')",
   "id": "2f3545588646122",
   "execution_count": 36,
   "outputs": []
  },
  {
   "metadata": {
    "ExecuteTime": {
     "end_time": "2024-07-29T13:03:36.350362Z",
     "start_time": "2024-07-29T13:03:36.340447Z"
    }
   },
   "cell_type": "code",
   "source": "from sklearn.metrics import multilabel_confusion_matrix, accuracy_score",
   "id": "71cdd0dd9bd3f159",
   "execution_count": 28,
   "outputs": []
  },
  {
   "metadata": {
    "ExecuteTime": {
     "end_time": "2024-07-29T13:03:38.577330Z",
     "start_time": "2024-07-29T13:03:38.483594Z"
    }
   },
   "cell_type": "code",
   "source": "yhat = model.predict(X_test)",
   "id": "376ce5bce999af7a",
   "execution_count": 29,
   "outputs": []
  },
  {
   "metadata": {
    "ExecuteTime": {
     "end_time": "2024-07-29T13:03:43.144144Z",
     "start_time": "2024-07-29T13:03:43.127876Z"
    }
   },
   "cell_type": "code",
   "source": [
    "ytrue = np.argmax(y_test, axis=1).tolist()\n",
    "yhat = np.argmax(yhat, axis=1).tolist()"
   ],
   "id": "30244c6182016400",
   "execution_count": 30,
   "outputs": []
  },
  {
   "metadata": {
    "ExecuteTime": {
     "end_time": "2024-07-29T13:03:43.847073Z",
     "start_time": "2024-07-29T13:03:43.828890Z"
    }
   },
   "cell_type": "code",
   "source": "multilabel_confusion_matrix(ytrue, yhat)",
   "id": "d103529adfc8dc80",
   "execution_count": 31,
   "outputs": []
  },
  {
   "metadata": {
    "ExecuteTime": {
     "end_time": "2024-07-29T13:03:45.532894Z",
     "start_time": "2024-07-29T13:03:45.522415Z"
    }
   },
   "cell_type": "code",
   "source": "accuracy_score(ytrue, yhat)",
   "id": "a96581e516ac71a2",
   "execution_count": 32,
   "outputs": []
  },
  {
   "metadata": {
    "ExecuteTime": {
     "end_time": "2024-07-29T13:03:49.507725Z",
     "start_time": "2024-07-29T13:03:49.500792Z"
    }
   },
   "cell_type": "code",
   "source": "colors = [(245, 117, 16), (117, 245, 16), (16, 117, 245), (204, 0, 0), (255, 255, 0), (0, 255, 255), (127, 0, 255), (0, 127, 0), (255, 0)]",
   "id": "8192075f55126c89",
   "execution_count": 33,
   "outputs": []
  },
  {
   "metadata": {
    "ExecuteTime": {
     "end_time": "2024-07-29T13:03:51.210988Z",
     "start_time": "2024-07-29T13:03:51.191818Z"
    }
   },
   "cell_type": "code",
   "source": [
    "def prob_viz(res, actions, input_frame, colors):\n",
    "    output_frame = input_frame.copy()\n",
    "    for num, prob in enumerate(res):\n",
    "        cv2.rectangle(output_frame, (0, 60 + num * 40), (int(prob * 100), 90 + num * 40), colors[num], -1)\n",
    "        cv2.putText(output_frame, actions[num], (0, 85 + num * 40), cv2.FONT_HERSHEY_SIMPLEX, 1, (255, 255, 255), 2,\n",
    "                    cv2.LINE_AA)\n",
    "\n",
    "    return output_frame"
   ],
   "id": "f6d575eaae593cb8",
   "execution_count": 34,
   "outputs": []
  },
  {
   "metadata": {
    "ExecuteTime": {
     "end_time": "2024-07-29T13:04:34.107087Z",
     "start_time": "2024-07-29T13:03:53.203938Z"
    }
   },
   "cell_type": "code",
   "source": [
    "sequence = []\n",
    "sentence = []\n",
    "predictions = []\n",
    "threshold = 0.5\n",
    "\n",
    "cap = cv2.VideoCapture(0)\n",
    "cap.set(cv2.CAP_PROP_FRAME_WIDTH, 1920)\n",
    "cap.set(cv2.CAP_PROP_FRAME_HEIGHT, 1080)\n",
    "with mp_holistic.Holistic(min_detection_confidence=0.5, min_tracking_confidence=0.5) as holistic:\n",
    "    while cap.isOpened():\n",
    "\n",
    "        # Read feed\n",
    "        ret, frame = cap.read()\n",
    "\n",
    "        # Make detections\n",
    "        image, results = mediapipe_detection(frame, holistic)\n",
    "        print(results)\n",
    "\n",
    "        # Draw landmarks\n",
    "        draw_styled_landmarks(image, results)\n",
    "\n",
    "        # 2. Prediction logic\n",
    "        keypoints = extract_keypoints(results)\n",
    "        sequence.append(keypoints)\n",
    "        sequence = sequence[-30:]\n",
    "\n",
    "        if len(sequence) == 30:\n",
    "            res = model.predict(np.expand_dims(sequence, axis=0))[0]\n",
    "            print(actions[np.argmax(res)])\n",
    "            predictions.append(np.argmax(res))\n",
    "\n",
    "            # 3. Viz logic\n",
    "            if np.unique(predictions[-10:])[0] == np.argmax(res):\n",
    "                print(res[np.argmax(res)])\n",
    "                if res[np.argmax(res)] > threshold:\n",
    "\n",
    "                    if len(sentence) > 0:\n",
    "                        if actions[np.argmax(res)] != sentence[-1]:\n",
    "                            sentence.append(actions[np.argmax(res)])\n",
    "                    else:\n",
    "                        sentence.append(actions[np.argmax(res)])\n",
    "\n",
    "            if len(sentence) > 10:\n",
    "                sentence = sentence[-10:]\n",
    "\n",
    "            # Viz probabilities\n",
    "            image = prob_viz(res, actions, image, colors)\n",
    "\n",
    "        cv2.rectangle(image, (0, 750), (1200, 800), (64, 64, 64), -1)\n",
    "        cv2.putText(image, ' '.join(sentence), (3, 725),\n",
    "                        cv2.FONT_HERSHEY_SIMPLEX, 1, (255, 255, 255), 2, cv2.LINE_AA)\n",
    "\n",
    "        # Show to screen\n",
    "        cv2.imshow('Signable', image)\n",
    "        cv2.resizeWindow('Signable', 1200, 1000)\n",
    "        # Break gracefully\n",
    "        if cv2.waitKey(10) & 0xFF == ord('q'):\n",
    "            break\n",
    "    cap.release()\n",
    "    cv2.destroyAllWindows()\n"
   ],
   "id": "234a064514bb7399",
   "execution_count": 35,
   "outputs": []
  }
 ],
 "metadata": {
  "kernelspec": {
   "display_name": "Python 3",
   "language": "python",
   "name": "python3"
  },
  "language_info": {
   "codemirror_mode": {
    "name": "ipython",
    "version": 2
   },
   "file_extension": ".py",
   "mimetype": "text/x-python",
   "name": "python",
   "nbconvert_exporter": "python",
   "pygments_lexer": "ipython2",
   "version": "2.7.6"
  }
 },
 "nbformat": 4,
 "nbformat_minor": 5
}
