{
 "cells": [
  {
   "cell_type": "code",
   "id": "initial_id",
   "metadata": {
    "collapsed": true,
    "ExecuteTime": {
     "end_time": "2024-07-30T19:25:06.421301Z",
     "start_time": "2024-07-30T19:25:06.159954Z"
    }
   },
   "source": [
    "import cv2\n",
    "import numpy as np\n",
    "from keras._tf_keras.keras.models import Sequential\n",
    "from tensorflow.keras.layers import LSTM, Dense\n",
    "import mediapipe as mp"
   ],
   "execution_count": 37,
   "outputs": []
  },
  {
   "metadata": {
    "ExecuteTime": {
     "end_time": "2024-07-30T18:20:44.016687Z",
     "start_time": "2024-07-30T18:20:44.012108Z"
    }
   },
   "cell_type": "code",
   "source": [
    "mp_holistic = mp.solutions.holistic\n",
    "mp_drawing = mp.solutions.drawing_utils"
   ],
   "id": "6a895d0e8c71bbf6",
   "execution_count": 2,
   "outputs": []
  },
  {
   "metadata": {
    "ExecuteTime": {
     "end_time": "2024-07-30T18:20:44.022552Z",
     "start_time": "2024-07-30T18:20:44.016687Z"
    }
   },
   "cell_type": "code",
   "source": [
    "def mediapipe_detection(image, model):\n",
    "    image = cv2.cvtColor(image, cv2.COLOR_BGR2RGB)\n",
    "    image.flags.writeable = False\n",
    "    results = model.process(image)\n",
    "    image.flags.writeable = True\n",
    "    image = cv2.cvtColor(image, cv2.COLOR_RGB2BGR)\n",
    "    return image, results"
   ],
   "id": "b060b3959b750f92",
   "execution_count": 3,
   "outputs": []
  },
  {
   "metadata": {
    "ExecuteTime": {
     "end_time": "2024-07-30T18:20:44.030339Z",
     "start_time": "2024-07-30T18:20:44.022552Z"
    }
   },
   "cell_type": "code",
   "source": [
    "def draw_styled_landmarks(image, results):\n",
    "    mp_drawing.draw_landmarks(image, results.face_landmarks, mp_holistic.FACEMESH_CONTOURS,\n",
    "                             mp_drawing.DrawingSpec(color=(80,110,10), thickness=1, circle_radius=1),\n",
    "                             mp_drawing.DrawingSpec(color=(80,256,121), thickness=1, circle_radius=1)\n",
    "                             )\n",
    "    mp_drawing.draw_landmarks(image, results.pose_landmarks, mp_holistic.POSE_CONNECTIONS,\n",
    "                             mp_drawing.DrawingSpec(color=(80,22,10), thickness=2, circle_radius=4),\n",
    "                             mp_drawing.DrawingSpec(color=(80,44,121), thickness=2, circle_radius=2)\n",
    "                             )\n",
    "    mp_drawing.draw_landmarks(image, results.left_hand_landmarks, mp_holistic.HAND_CONNECTIONS,\n",
    "                             mp_drawing.DrawingSpec(color=(121,22,76), thickness=2, circle_radius=4),\n",
    "                             mp_drawing.DrawingSpec(color=(121,44,250), thickness=2, circle_radius=2)\n",
    "                             )\n",
    "    mp_drawing.draw_landmarks(image, results.right_hand_landmarks, mp_holistic.HAND_CONNECTIONS,\n",
    "                             mp_drawing.DrawingSpec(color=(245,117,66), thickness=2, circle_radius=4),\n",
    "                             mp_drawing.DrawingSpec(color=(245,66,230), thickness=2, circle_radius=2)\n",
    "                             )"
   ],
   "id": "a281de3950777f35",
   "execution_count": 4,
   "outputs": []
  },
  {
   "metadata": {
    "ExecuteTime": {
     "end_time": "2024-07-30T18:20:44.037357Z",
     "start_time": "2024-07-30T18:20:44.030339Z"
    }
   },
   "cell_type": "code",
   "source": [
    "def extract_keypoints(results):\n",
    "    pose = np.array([[res.x, res.y, res.z, res.visibility] for res in results.pose_landmarks.landmark]).flatten() if results.pose_landmarks else np.zeros(33*4)\n",
    "    face = np.array([[res.x, res.y, res.z] for res in results.face_landmarks.landmark]).flatten() if results.face_landmarks else np.zeros(468*3)\n",
    "    lh = np.array([[res.x, res.y, res.z] for res in results.left_hand_landmarks.landmark]).flatten() if results.left_hand_landmarks else np.zeros(21*3)\n",
    "    rh = np.array([[res.x, res.y, res.z] for res in results.right_hand_landmarks.landmark]).flatten() if results.right_hand_landmarks else np.zeros(21*3)\n",
    "    return np.concatenate([pose, face, lh, rh])"
   ],
   "id": "17ad86f0648c9d63",
   "execution_count": 5,
   "outputs": []
  },
  {
   "metadata": {
    "ExecuteTime": {
     "end_time": "2024-07-30T19:01:20.216979Z",
     "start_time": "2024-07-30T19:01:20.200859Z"
    }
   },
   "cell_type": "code",
   "source": "actions = np.array([\"no_event\", \"bu\", 'salom', 'beradi', 'yordam', \"kar-soqovlarga\", \"suni'iy idrok\"])",
   "id": "a972428b3cba2bb8",
   "execution_count": 30,
   "outputs": []
  },
  {
   "metadata": {
    "ExecuteTime": {
     "end_time": "2024-07-30T18:20:44.181722Z",
     "start_time": "2024-07-30T18:20:44.043124Z"
    }
   },
   "cell_type": "code",
   "source": [
    "model = Sequential()\n",
    "model.add(LSTM(64, return_sequences=True, activation='relu', input_shape=(30,1662)))\n",
    "model.add(LSTM(128, return_sequences=True, activation='relu'))\n",
    "model.add(LSTM(64, return_sequences=False, activation='relu'))\n",
    "model.add(Dense(64, activation='relu'))\n",
    "model.add(Dense(32, activation='relu'))\n",
    "model.add(Dense(actions.shape[0], activation='softmax'))"
   ],
   "id": "1a0b553ba3d33e54",
   "execution_count": 7,
   "outputs": []
  },
  {
   "metadata": {
    "ExecuteTime": {
     "end_time": "2024-07-30T18:20:44.197881Z",
     "start_time": "2024-07-30T18:20:44.181722Z"
    }
   },
   "cell_type": "code",
   "source": "model.compile(optimizer='Adam', loss='categorical_crossentropy', metrics=['categorical_accuracy'])",
   "id": "bbf0b9f68cf91d22",
   "execution_count": 8,
   "outputs": []
  },
  {
   "metadata": {
    "ExecuteTime": {
     "end_time": "2024-07-30T18:20:44.229014Z",
     "start_time": "2024-07-30T18:20:44.197881Z"
    }
   },
   "cell_type": "code",
   "source": "model.load_weights('action.h5')",
   "id": "2f3545588646122",
   "execution_count": 9,
   "outputs": []
  },
  {
   "metadata": {
    "ExecuteTime": {
     "end_time": "2024-07-30T19:14:42.469737Z",
     "start_time": "2024-07-30T19:14:22.537990Z"
    }
   },
   "cell_type": "code",
   "source": [
    "sequence = []\n",
    "sentence = [\"\"]\n",
    "predictions = []\n",
    "threshold = 0.9999999\n",
    "\n",
    "cap = cv2.VideoCapture(0)\n",
    "cap.set(cv2.CAP_PROP_FRAME_WIDTH, 840)\n",
    "cap.set(cv2.CAP_PROP_FRAME_HEIGHT, 840)\n",
    "with mp_holistic.Holistic(min_detection_confidence=0.5, min_tracking_confidence=0.5) as holistic:\n",
    "    while cap.isOpened():\n",
    "\n",
    "        ret, frame = cap.read()\n",
    "\n",
    "        image, results = mediapipe_detection(frame, holistic)\n",
    "        \n",
    "        draw_styled_landmarks(image, results)\n",
    "\n",
    "        keypoints = extract_keypoints(results)\n",
    "        sequence.append(keypoints)\n",
    "        sequence = sequence[-30:]\n",
    "\n",
    "        if len(sequence) == 30:\n",
    "            res = model.predict(np.expand_dims(sequence, axis=0))[0]\n",
    "            predictions.append(np.argmax(res))\n",
    "            print(actions[np.argmax(res)])\n",
    "\n",
    "            if np.unique(predictions[-5:])[0] == np.argmax(res):\n",
    "                print(res[np.argmax(res)])\n",
    "                if res[np.argmax(res)] > threshold:\n",
    "\n",
    "                    if len(sentence) > 0:\n",
    "                        if actions[np.argmax(res)] != sentence[-1] and actions[np.argmax(res)] != \"no_event\":\n",
    "                            sentence.append(actions[np.argmax(res)])\n",
    "                    else:\n",
    "                        if actions[np.argmax(res)] != \"no_event\":\n",
    "                            sentence.append(actions[np.argmax(res)])\n",
    "\n",
    "            if len(sentence) > 3:\n",
    "                sentence = sentence[-3:]\n",
    "\n",
    "        cv2.imshow('Signable', image)\n",
    "        if cv2.waitKey(10) & 0xFF == ord('q'):\n",
    "            break\n",
    "    cap.release()\n",
    "    cv2.destroyAllWindows()\n"
   ],
   "id": "234a064514bb7399",
   "execution_count": 35,
   "outputs": []
  },
  {
   "metadata": {},
   "cell_type": "code",
   "execution_count": null,
   "source": " ",
   "id": "600a77058c8e2a53",
   "outputs": []
  }
 ],
 "metadata": {
  "kernelspec": {
   "display_name": "Python 3",
   "language": "python",
   "name": "python3"
  },
  "language_info": {
   "codemirror_mode": {
    "name": "ipython",
    "version": 2
   },
   "file_extension": ".py",
   "mimetype": "text/x-python",
   "name": "python",
   "nbconvert_exporter": "python",
   "pygments_lexer": "ipython2",
   "version": "2.7.6"
  }
 },
 "nbformat": 4,
 "nbformat_minor": 5
}
